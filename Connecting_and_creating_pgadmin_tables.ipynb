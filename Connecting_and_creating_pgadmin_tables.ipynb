{
 "cells": [
  {
   "cell_type": "code",
   "execution_count": null,
   "metadata": {},
   "outputs": [],
   "source": [
    "import psycopg2"
   ]
  },
  {
   "cell_type": "code",
   "execution_count": null,
   "metadata": {},
   "outputs": [],
   "source": [
    "conn= psycopg2.connect(\n",
    "    host='localhost',\n",
    "    database='health_dashboard',\n",
    "    user='pstgres',\n",
    "    password='Asal1107707'\n",
    ")\n",
    "\n",
    "cursor=conn.cursor()\n",
    "\n",
    "\n",
    "cursor.execute(\"\"\"\n",
    "    CREATE TABLE IF NOT EXISTS health_data(\n",
    "               age INT,\n",
    "               sex INT,\n",
    "               cp INT,\n",
    "               trestbps INT,\n",
    "               chol INT,\n",
    "               target INT,\n",
    "    );\"\"\" )\n",
    "\n",
    "\n",
    "conn.commit()\n",
    "\n",
    "print(\"Table has been created\")\n",
    "\n",
    "cursor.close()\n",
    "conn.close()\n",
    "\n",
    "\n"
   ]
  }
 ],
 "metadata": {
  "language_info": {
   "name": "python"
  },
  "orig_nbformat": 4
 },
 "nbformat": 4,
 "nbformat_minor": 2
}
